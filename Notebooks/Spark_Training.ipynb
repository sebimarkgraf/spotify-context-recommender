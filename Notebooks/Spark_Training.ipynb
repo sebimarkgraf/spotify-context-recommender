{
 "cells": [
  {
   "cell_type": "markdown",
   "metadata": {
    "collapsed": true,
    "id": "OobypUVwTqca"
   },
   "source": [
    "# Feature Extraction aus InfluxDB und Klassifikation\n",
    "\n",
    "## Imports"
   ]
  },
  {
   "cell_type": "code",
   "execution_count": 37,
   "metadata": {
    "id": "wrQFqJ9LTqci"
   },
   "outputs": [],
   "source": [
    "import numpy as np\n",
    "import pandas as pd\n",
    "import seaborn as sns\n",
    "from influxdb_client import InfluxDBClient\n",
    "import matplotlib.pyplot as plt"
   ]
  },
  {
   "cell_type": "markdown",
   "metadata": {
    "id": "MnxcO-NXTqcn"
   },
   "source": [
    "## Daten Laden\n",
    "Wier wollen die Daten direkt aus Influx Laden.\n",
    "Dafür bauen wir zuerst eine Connection zur Influx Instanz auf"
   ]
  },
  {
   "cell_type": "code",
   "execution_count": 38,
   "metadata": {
    "id": "IfcEQxz1Tqcp"
   },
   "outputs": [],
   "source": [
    "BUCKET = \"extended_labels\"\n",
    "URL = \"https://css21.teco.edu\"\n",
    "TOKEN = \"***REMOVED***\"\n",
    "ORG = \"css21\"\n",
    "client = InfluxDBClient(url=URL, token=TOKEN, org=ORG, verify_ssl=False)\n",
    "query_api = client.query_api()"
   ]
  },
  {
   "cell_type": "markdown",
   "metadata": {
    "id": "cT5IJACoTqct"
   },
   "source": [
    "### Querying Influx\n",
    "Der Query wird in Flux geschrieben"
   ]
  },
  {
   "cell_type": "code",
   "execution_count": 39,
   "metadata": {
    "colab": {
     "base_uri": "https://localhost:8080/"
    },
    "id": "yBY4X0juTqcu",
    "outputId": "f937962d-4cbe-4eea-a5dc-d6e6887510ff"
   },
   "outputs": [
    {
     "name": "stderr",
     "output_type": "stream",
     "text": [
      "/home/sebbo/Projekte/kontextsensitive-systeme/venv/lib/python3.9/site-packages/urllib3/connectionpool.py:1013: InsecureRequestWarning: Unverified HTTPS request is being made to host 'css21.teco.edu'. Adding certificate verification is strongly advised. See: https://urllib3.readthedocs.io/en/1.26.x/advanced-usage.html#ssl-warnings\n",
      "  warnings.warn(\n"
     ]
    },
    {
     "data": {
      "text/html": [
       "<div>\n",
       "<style scoped>\n",
       "    .dataframe tbody tr th:only-of-type {\n",
       "        vertical-align: middle;\n",
       "    }\n",
       "\n",
       "    .dataframe tbody tr th {\n",
       "        vertical-align: top;\n",
       "    }\n",
       "\n",
       "    .dataframe thead th {\n",
       "        text-align: right;\n",
       "    }\n",
       "</style>\n",
       "<table border=\"1\" class=\"dataframe\">\n",
       "  <thead>\n",
       "    <tr style=\"text-align: right;\">\n",
       "      <th></th>\n",
       "      <th>label</th>\n",
       "      <th>subject</th>\n",
       "      <th>alpha_devicemotion</th>\n",
       "      <th>beta_devicemotion</th>\n",
       "      <th>gamma_devicemotion</th>\n",
       "      <th>x_devicemotion</th>\n",
       "      <th>x0_devicemotion</th>\n",
       "      <th>y_devicemotion</th>\n",
       "      <th>y0_devicemotion</th>\n",
       "      <th>z_devicemotion</th>\n",
       "      <th>z0_devicemotion</th>\n",
       "      <th>alpha_deviceorientation</th>\n",
       "      <th>beta_deviceorientation</th>\n",
       "      <th>gamma_deviceorientation</th>\n",
       "    </tr>\n",
       "    <tr>\n",
       "      <th>_time</th>\n",
       "      <th></th>\n",
       "      <th></th>\n",
       "      <th></th>\n",
       "      <th></th>\n",
       "      <th></th>\n",
       "      <th></th>\n",
       "      <th></th>\n",
       "      <th></th>\n",
       "      <th></th>\n",
       "      <th></th>\n",
       "      <th></th>\n",
       "      <th></th>\n",
       "      <th></th>\n",
       "      <th></th>\n",
       "    </tr>\n",
       "  </thead>\n",
       "  <tbody>\n",
       "    <tr>\n",
       "      <th>2021-08-14 11:58:37.871000+00:00</th>\n",
       "      <td>driving</td>\n",
       "      <td>0c86078c3e</td>\n",
       "      <td>23.695926</td>\n",
       "      <td>-41.337541</td>\n",
       "      <td>-9.004711</td>\n",
       "      <td>0.774075</td>\n",
       "      <td>0.479989</td>\n",
       "      <td>-5.938367</td>\n",
       "      <td>0.633047</td>\n",
       "      <td>-9.519047</td>\n",
       "      <td>-2.245780</td>\n",
       "      <td>NaN</td>\n",
       "      <td>NaN</td>\n",
       "      <td>NaN</td>\n",
       "    </tr>\n",
       "    <tr>\n",
       "      <th>2021-08-14 11:58:37.887000+00:00</th>\n",
       "      <td>driving</td>\n",
       "      <td>0c86078c3e</td>\n",
       "      <td>52.862054</td>\n",
       "      <td>-18.493067</td>\n",
       "      <td>-2.514026</td>\n",
       "      <td>0.685190</td>\n",
       "      <td>0.455864</td>\n",
       "      <td>-6.186018</td>\n",
       "      <td>0.483131</td>\n",
       "      <td>-9.409512</td>\n",
       "      <td>-2.223397</td>\n",
       "      <td>NaN</td>\n",
       "      <td>NaN</td>\n",
       "      <td>NaN</td>\n",
       "    </tr>\n",
       "    <tr>\n",
       "      <th>2021-08-14 11:58:37.903000+00:00</th>\n",
       "      <td>driving</td>\n",
       "      <td>0c86078c3e</td>\n",
       "      <td>65.476283</td>\n",
       "      <td>4.852037</td>\n",
       "      <td>-1.505551</td>\n",
       "      <td>0.137966</td>\n",
       "      <td>-0.083518</td>\n",
       "      <td>-5.850979</td>\n",
       "      <td>0.967563</td>\n",
       "      <td>-8.309975</td>\n",
       "      <td>-1.265203</td>\n",
       "      <td>NaN</td>\n",
       "      <td>NaN</td>\n",
       "      <td>NaN</td>\n",
       "    </tr>\n",
       "    <tr>\n",
       "      <th>2021-08-14 11:58:37.920000+00:00</th>\n",
       "      <td>driving</td>\n",
       "      <td>0c86078c3e</td>\n",
       "      <td>59.653137</td>\n",
       "      <td>3.318965</td>\n",
       "      <td>-8.634220</td>\n",
       "      <td>-0.124648</td>\n",
       "      <td>-0.371062</td>\n",
       "      <td>-6.084713</td>\n",
       "      <td>0.887691</td>\n",
       "      <td>-7.275830</td>\n",
       "      <td>-0.384150</td>\n",
       "      <td>NaN</td>\n",
       "      <td>NaN</td>\n",
       "      <td>NaN</td>\n",
       "    </tr>\n",
       "    <tr>\n",
       "      <th>2021-08-14 11:58:37.937000+00:00</th>\n",
       "      <td>driving</td>\n",
       "      <td>0c86078c3e</td>\n",
       "      <td>51.026444</td>\n",
       "      <td>-1.898931</td>\n",
       "      <td>-12.700321</td>\n",
       "      <td>-0.046388</td>\n",
       "      <td>-0.306667</td>\n",
       "      <td>-6.291212</td>\n",
       "      <td>0.746649</td>\n",
       "      <td>-6.849212</td>\n",
       "      <td>-0.024907</td>\n",
       "      <td>NaN</td>\n",
       "      <td>NaN</td>\n",
       "      <td>NaN</td>\n",
       "    </tr>\n",
       "    <tr>\n",
       "      <th>...</th>\n",
       "      <td>...</td>\n",
       "      <td>...</td>\n",
       "      <td>...</td>\n",
       "      <td>...</td>\n",
       "      <td>...</td>\n",
       "      <td>...</td>\n",
       "      <td>...</td>\n",
       "      <td>...</td>\n",
       "      <td>...</td>\n",
       "      <td>...</td>\n",
       "      <td>...</td>\n",
       "      <td>...</td>\n",
       "      <td>...</td>\n",
       "      <td>...</td>\n",
       "    </tr>\n",
       "    <tr>\n",
       "      <th>2021-08-21 11:42:30.367000+00:00</th>\n",
       "      <td>studying</td>\n",
       "      <td>hj44jjh740</td>\n",
       "      <td>NaN</td>\n",
       "      <td>NaN</td>\n",
       "      <td>NaN</td>\n",
       "      <td>NaN</td>\n",
       "      <td>NaN</td>\n",
       "      <td>NaN</td>\n",
       "      <td>NaN</td>\n",
       "      <td>NaN</td>\n",
       "      <td>NaN</td>\n",
       "      <td>6.368002</td>\n",
       "      <td>52.924892</td>\n",
       "      <td>-9.198874</td>\n",
       "    </tr>\n",
       "    <tr>\n",
       "      <th>2021-08-21 11:42:30.383000+00:00</th>\n",
       "      <td>studying</td>\n",
       "      <td>hj44jjh740</td>\n",
       "      <td>NaN</td>\n",
       "      <td>NaN</td>\n",
       "      <td>NaN</td>\n",
       "      <td>NaN</td>\n",
       "      <td>NaN</td>\n",
       "      <td>NaN</td>\n",
       "      <td>NaN</td>\n",
       "      <td>NaN</td>\n",
       "      <td>NaN</td>\n",
       "      <td>6.306407</td>\n",
       "      <td>53.026791</td>\n",
       "      <td>-9.471686</td>\n",
       "    </tr>\n",
       "    <tr>\n",
       "      <th>2021-08-21 11:42:30.400000+00:00</th>\n",
       "      <td>studying</td>\n",
       "      <td>hj44jjh740</td>\n",
       "      <td>NaN</td>\n",
       "      <td>NaN</td>\n",
       "      <td>NaN</td>\n",
       "      <td>NaN</td>\n",
       "      <td>NaN</td>\n",
       "      <td>NaN</td>\n",
       "      <td>NaN</td>\n",
       "      <td>NaN</td>\n",
       "      <td>NaN</td>\n",
       "      <td>6.221469</td>\n",
       "      <td>52.874954</td>\n",
       "      <td>-9.370203</td>\n",
       "    </tr>\n",
       "    <tr>\n",
       "      <th>2021-08-21 11:42:30.417000+00:00</th>\n",
       "      <td>studying</td>\n",
       "      <td>hj44jjh740</td>\n",
       "      <td>NaN</td>\n",
       "      <td>NaN</td>\n",
       "      <td>NaN</td>\n",
       "      <td>NaN</td>\n",
       "      <td>NaN</td>\n",
       "      <td>NaN</td>\n",
       "      <td>NaN</td>\n",
       "      <td>NaN</td>\n",
       "      <td>NaN</td>\n",
       "      <td>6.290653</td>\n",
       "      <td>52.814398</td>\n",
       "      <td>-9.351599</td>\n",
       "    </tr>\n",
       "    <tr>\n",
       "      <th>2021-08-21 11:42:30.435000+00:00</th>\n",
       "      <td>studying</td>\n",
       "      <td>hj44jjh740</td>\n",
       "      <td>NaN</td>\n",
       "      <td>NaN</td>\n",
       "      <td>NaN</td>\n",
       "      <td>NaN</td>\n",
       "      <td>NaN</td>\n",
       "      <td>NaN</td>\n",
       "      <td>NaN</td>\n",
       "      <td>NaN</td>\n",
       "      <td>NaN</td>\n",
       "      <td>6.565993</td>\n",
       "      <td>52.667470</td>\n",
       "      <td>-9.335873</td>\n",
       "    </tr>\n",
       "  </tbody>\n",
       "</table>\n",
       "<p>265119 rows × 14 columns</p>\n",
       "</div>"
      ],
      "text/plain": [
       "                                     label     subject  alpha_devicemotion  \\\n",
       "_time                                                                        \n",
       "2021-08-14 11:58:37.871000+00:00   driving  0c86078c3e           23.695926   \n",
       "2021-08-14 11:58:37.887000+00:00   driving  0c86078c3e           52.862054   \n",
       "2021-08-14 11:58:37.903000+00:00   driving  0c86078c3e           65.476283   \n",
       "2021-08-14 11:58:37.920000+00:00   driving  0c86078c3e           59.653137   \n",
       "2021-08-14 11:58:37.937000+00:00   driving  0c86078c3e           51.026444   \n",
       "...                                    ...         ...                 ...   \n",
       "2021-08-21 11:42:30.367000+00:00  studying  hj44jjh740                 NaN   \n",
       "2021-08-21 11:42:30.383000+00:00  studying  hj44jjh740                 NaN   \n",
       "2021-08-21 11:42:30.400000+00:00  studying  hj44jjh740                 NaN   \n",
       "2021-08-21 11:42:30.417000+00:00  studying  hj44jjh740                 NaN   \n",
       "2021-08-21 11:42:30.435000+00:00  studying  hj44jjh740                 NaN   \n",
       "\n",
       "                                  beta_devicemotion  gamma_devicemotion  \\\n",
       "_time                                                                     \n",
       "2021-08-14 11:58:37.871000+00:00         -41.337541           -9.004711   \n",
       "2021-08-14 11:58:37.887000+00:00         -18.493067           -2.514026   \n",
       "2021-08-14 11:58:37.903000+00:00           4.852037           -1.505551   \n",
       "2021-08-14 11:58:37.920000+00:00           3.318965           -8.634220   \n",
       "2021-08-14 11:58:37.937000+00:00          -1.898931          -12.700321   \n",
       "...                                             ...                 ...   \n",
       "2021-08-21 11:42:30.367000+00:00                NaN                 NaN   \n",
       "2021-08-21 11:42:30.383000+00:00                NaN                 NaN   \n",
       "2021-08-21 11:42:30.400000+00:00                NaN                 NaN   \n",
       "2021-08-21 11:42:30.417000+00:00                NaN                 NaN   \n",
       "2021-08-21 11:42:30.435000+00:00                NaN                 NaN   \n",
       "\n",
       "                                  x_devicemotion  x0_devicemotion  \\\n",
       "_time                                                               \n",
       "2021-08-14 11:58:37.871000+00:00        0.774075         0.479989   \n",
       "2021-08-14 11:58:37.887000+00:00        0.685190         0.455864   \n",
       "2021-08-14 11:58:37.903000+00:00        0.137966        -0.083518   \n",
       "2021-08-14 11:58:37.920000+00:00       -0.124648        -0.371062   \n",
       "2021-08-14 11:58:37.937000+00:00       -0.046388        -0.306667   \n",
       "...                                          ...              ...   \n",
       "2021-08-21 11:42:30.367000+00:00             NaN              NaN   \n",
       "2021-08-21 11:42:30.383000+00:00             NaN              NaN   \n",
       "2021-08-21 11:42:30.400000+00:00             NaN              NaN   \n",
       "2021-08-21 11:42:30.417000+00:00             NaN              NaN   \n",
       "2021-08-21 11:42:30.435000+00:00             NaN              NaN   \n",
       "\n",
       "                                  y_devicemotion  y0_devicemotion  \\\n",
       "_time                                                               \n",
       "2021-08-14 11:58:37.871000+00:00       -5.938367         0.633047   \n",
       "2021-08-14 11:58:37.887000+00:00       -6.186018         0.483131   \n",
       "2021-08-14 11:58:37.903000+00:00       -5.850979         0.967563   \n",
       "2021-08-14 11:58:37.920000+00:00       -6.084713         0.887691   \n",
       "2021-08-14 11:58:37.937000+00:00       -6.291212         0.746649   \n",
       "...                                          ...              ...   \n",
       "2021-08-21 11:42:30.367000+00:00             NaN              NaN   \n",
       "2021-08-21 11:42:30.383000+00:00             NaN              NaN   \n",
       "2021-08-21 11:42:30.400000+00:00             NaN              NaN   \n",
       "2021-08-21 11:42:30.417000+00:00             NaN              NaN   \n",
       "2021-08-21 11:42:30.435000+00:00             NaN              NaN   \n",
       "\n",
       "                                  z_devicemotion  z0_devicemotion  \\\n",
       "_time                                                               \n",
       "2021-08-14 11:58:37.871000+00:00       -9.519047        -2.245780   \n",
       "2021-08-14 11:58:37.887000+00:00       -9.409512        -2.223397   \n",
       "2021-08-14 11:58:37.903000+00:00       -8.309975        -1.265203   \n",
       "2021-08-14 11:58:37.920000+00:00       -7.275830        -0.384150   \n",
       "2021-08-14 11:58:37.937000+00:00       -6.849212        -0.024907   \n",
       "...                                          ...              ...   \n",
       "2021-08-21 11:42:30.367000+00:00             NaN              NaN   \n",
       "2021-08-21 11:42:30.383000+00:00             NaN              NaN   \n",
       "2021-08-21 11:42:30.400000+00:00             NaN              NaN   \n",
       "2021-08-21 11:42:30.417000+00:00             NaN              NaN   \n",
       "2021-08-21 11:42:30.435000+00:00             NaN              NaN   \n",
       "\n",
       "                                  alpha_deviceorientation  \\\n",
       "_time                                                       \n",
       "2021-08-14 11:58:37.871000+00:00                      NaN   \n",
       "2021-08-14 11:58:37.887000+00:00                      NaN   \n",
       "2021-08-14 11:58:37.903000+00:00                      NaN   \n",
       "2021-08-14 11:58:37.920000+00:00                      NaN   \n",
       "2021-08-14 11:58:37.937000+00:00                      NaN   \n",
       "...                                                   ...   \n",
       "2021-08-21 11:42:30.367000+00:00                 6.368002   \n",
       "2021-08-21 11:42:30.383000+00:00                 6.306407   \n",
       "2021-08-21 11:42:30.400000+00:00                 6.221469   \n",
       "2021-08-21 11:42:30.417000+00:00                 6.290653   \n",
       "2021-08-21 11:42:30.435000+00:00                 6.565993   \n",
       "\n",
       "                                  beta_deviceorientation  \\\n",
       "_time                                                      \n",
       "2021-08-14 11:58:37.871000+00:00                     NaN   \n",
       "2021-08-14 11:58:37.887000+00:00                     NaN   \n",
       "2021-08-14 11:58:37.903000+00:00                     NaN   \n",
       "2021-08-14 11:58:37.920000+00:00                     NaN   \n",
       "2021-08-14 11:58:37.937000+00:00                     NaN   \n",
       "...                                                  ...   \n",
       "2021-08-21 11:42:30.367000+00:00               52.924892   \n",
       "2021-08-21 11:42:30.383000+00:00               53.026791   \n",
       "2021-08-21 11:42:30.400000+00:00               52.874954   \n",
       "2021-08-21 11:42:30.417000+00:00               52.814398   \n",
       "2021-08-21 11:42:30.435000+00:00               52.667470   \n",
       "\n",
       "                                  gamma_deviceorientation  \n",
       "_time                                                      \n",
       "2021-08-14 11:58:37.871000+00:00                      NaN  \n",
       "2021-08-14 11:58:37.887000+00:00                      NaN  \n",
       "2021-08-14 11:58:37.903000+00:00                      NaN  \n",
       "2021-08-14 11:58:37.920000+00:00                      NaN  \n",
       "2021-08-14 11:58:37.937000+00:00                      NaN  \n",
       "...                                                   ...  \n",
       "2021-08-21 11:42:30.367000+00:00                -9.198874  \n",
       "2021-08-21 11:42:30.383000+00:00                -9.471686  \n",
       "2021-08-21 11:42:30.400000+00:00                -9.370203  \n",
       "2021-08-21 11:42:30.417000+00:00                -9.351599  \n",
       "2021-08-21 11:42:30.435000+00:00                -9.335873  \n",
       "\n",
       "[265119 rows x 14 columns]"
      ]
     },
     "execution_count": 39,
     "metadata": {},
     "output_type": "execute_result"
    }
   ],
   "source": [
    "query = '''\n",
    "    from(bucket: bucket)\n",
    "      |> range(start: -60d, stop: now())\n",
    "      |> filter(fn: (r) => r.label != \"testing\")\n",
    "      |> pivot(rowKey: [\"_time\", \"label\", \"subject\"], columnKey: [\"_field\", \"_measurement\"], valueColumn: \"_value\")\n",
    "'''\n",
    "params = {\n",
    "    \"bucket\": BUCKET\n",
    "}\n",
    "result = query_api.query_data_frame(query, params=params)\n",
    "result = result.set_index(\"_time\", drop=True)\n",
    "result = result.drop(columns=[\"table\", \"result\", \"_start\", \"_stop\", \"browser\", \"mobile\"])\n",
    "result[\"label\"] = pd.Categorical(result[\"label\"])\n",
    "result\n"
   ]
  },
  {
   "cell_type": "markdown",
   "metadata": {
    "id": "xivpJBs6Tqcy"
   },
   "source": [
    "## Feature Extraction"
   ]
  },
  {
   "cell_type": "code",
   "execution_count": 40,
   "metadata": {},
   "outputs": [],
   "source": [
    "import findspark\n",
    "findspark.init(\"/opt/apache-spark/\")\n",
    "\n",
    "from pyspark.sql import SparkSession\n",
    "spark = SparkSession.builder.getOrCreate()"
   ]
  },
  {
   "cell_type": "code",
   "execution_count": 41,
   "metadata": {},
   "outputs": [],
   "source": [
    "df = spark.createDataFrame(result.reset_index(\n",
    "))"
   ]
  },
  {
   "cell_type": "code",
   "execution_count": 42,
   "metadata": {
    "id": "sMU3xQ2ATqcz"
   },
   "outputs": [
    {
     "data": {
      "text/plain": [
       "DataFrame[subject: string, label: string, avg(alpha_devicemotion): double, avg(beta_devicemotion): double, avg(gamma_devicemotion): double, avg(x_devicemotion): double, avg(y_devicemotion): double, avg(z_devicemotion): double, avg(alpha_deviceorientation): double, avg(beta_deviceorientation): double, avg(gamma_deviceorientation): double, sum(alpha_devicemotion): double, sum(beta_devicemotion): double, sum(gamma_devicemotion): double, sum(x_devicemotion): double, sum(y_devicemotion): double, sum(z_devicemotion): double, sum(alpha_deviceorientation): double, sum(beta_deviceorientation): double, sum(gamma_deviceorientation): double, max(alpha_devicemotion): double, max(beta_devicemotion): double, max(gamma_devicemotion): double, max(x_devicemotion): double, max(y_devicemotion): double, max(z_devicemotion): double, max(alpha_deviceorientation): double, max(beta_deviceorientation): double, max(gamma_deviceorientation): double, var_samp(alpha_devicemotion): double, var_samp(beta_devicemotion): double, var_samp(gamma_devicemotion): double, var_samp(x_devicemotion): double, var_samp(y_devicemotion): double, var_samp(z_devicemotion): double, var_samp(alpha_deviceorientation): double, var_samp(beta_deviceorientation): double, var_samp(gamma_deviceorientation): double, min(alpha_devicemotion): double, min(beta_devicemotion): double, min(gamma_devicemotion): double, min(x_devicemotion): double, min(y_devicemotion): double, min(z_devicemotion): double, min(alpha_deviceorientation): double, min(beta_deviceorientation): double, min(gamma_deviceorientation): double, hourOfDay: int]"
      ]
     },
     "execution_count": 42,
     "metadata": {},
     "output_type": "execute_result"
    }
   ],
   "source": [
    "from pyspark.sql.functions import udf, col,  window, mean, sum as _sum, max as _max, min as _min, var_samp, to_timestamp\n",
    "from pyspark.sql.types import IntegerType\n",
    "\n",
    "df = df.withColumn(\"_time\", to_timestamp(\"_time\"))\n",
    "w = window(\"_time\", \"1 seconds\")\n",
    "\n",
    "aggregate = [\"alpha_devicemotion\", \"beta_devicemotion\", \"gamma_devicemotion\", \"x_devicemotion\", \"y_devicemotion\", \"z_devicemotion\", \"alpha_deviceorientation\", \"beta_deviceorientation\", \"gamma_deviceorientation\"] \n",
    "funs = [mean, _sum, _max, var_samp, _min]\n",
    "\n",
    "exprs = [f(col(c)) for f in funs for c in aggregate]\n",
    "\n",
    "grouped = df.fillna(0).groupBy([w, \"subject\", \"label\"]).agg(*exprs)\n",
    "\n",
    "## Time Based Features\n",
    "hour = udf(lambda x: x.hour, IntegerType())\n",
    "grouped = grouped.withColumn(\"hourOfDay\", hour(\"window.start\"))\n",
    "                             \n",
    "grouped = grouped.drop(\"window\")\n",
    "grouped"
   ]
  },
  {
   "cell_type": "markdown",
   "metadata": {
    "id": "DRcQ5s8t3B99"
   },
   "source": [
    "## Trainings\n",
    "\n",
    "Let's build a pipeline and traing it using spark."
   ]
  },
  {
   "cell_type": "code",
   "execution_count": 43,
   "metadata": {
    "id": "Ng0RJA_oTqc3"
   },
   "outputs": [
    {
     "data": {
      "text/plain": [
       "['avg(alpha_devicemotion)',\n",
       " 'avg(beta_devicemotion)',\n",
       " 'avg(gamma_devicemotion)',\n",
       " 'avg(x_devicemotion)',\n",
       " 'avg(y_devicemotion)',\n",
       " 'avg(z_devicemotion)',\n",
       " 'avg(alpha_deviceorientation)',\n",
       " 'avg(beta_deviceorientation)',\n",
       " 'avg(gamma_deviceorientation)',\n",
       " 'sum(alpha_devicemotion)',\n",
       " 'sum(beta_devicemotion)',\n",
       " 'sum(gamma_devicemotion)',\n",
       " 'sum(x_devicemotion)',\n",
       " 'sum(y_devicemotion)',\n",
       " 'sum(z_devicemotion)',\n",
       " 'sum(alpha_deviceorientation)',\n",
       " 'sum(beta_deviceorientation)',\n",
       " 'sum(gamma_deviceorientation)',\n",
       " 'max(alpha_devicemotion)',\n",
       " 'max(beta_devicemotion)',\n",
       " 'max(gamma_devicemotion)',\n",
       " 'max(x_devicemotion)',\n",
       " 'max(y_devicemotion)',\n",
       " 'max(z_devicemotion)',\n",
       " 'max(alpha_deviceorientation)',\n",
       " 'max(beta_deviceorientation)',\n",
       " 'max(gamma_deviceorientation)',\n",
       " 'var_samp(alpha_devicemotion)',\n",
       " 'var_samp(beta_devicemotion)',\n",
       " 'var_samp(gamma_devicemotion)',\n",
       " 'var_samp(x_devicemotion)',\n",
       " 'var_samp(y_devicemotion)',\n",
       " 'var_samp(z_devicemotion)',\n",
       " 'var_samp(alpha_deviceorientation)',\n",
       " 'var_samp(beta_deviceorientation)',\n",
       " 'var_samp(gamma_deviceorientation)',\n",
       " 'min(alpha_devicemotion)',\n",
       " 'min(beta_devicemotion)',\n",
       " 'min(gamma_devicemotion)',\n",
       " 'min(x_devicemotion)',\n",
       " 'min(y_devicemotion)',\n",
       " 'min(z_devicemotion)',\n",
       " 'min(alpha_deviceorientation)',\n",
       " 'min(beta_deviceorientation)',\n",
       " 'min(gamma_deviceorientation)',\n",
       " 'hourOfDay']"
      ]
     },
     "execution_count": 43,
     "metadata": {},
     "output_type": "execute_result"
    }
   ],
   "source": [
    "from pyspark.sql.types import StringType, DoubleType\n",
    "\n",
    "num_cols = [f.name for f in grouped.schema.fields if isinstance(f.dataType, DoubleType) or isinstance(f.dataType, IntegerType)]\n",
    "\n",
    "num_cols"
   ]
  },
  {
   "cell_type": "markdown",
   "metadata": {},
   "source": [
    "### Train Test Split by Subjects"
   ]
  },
  {
   "cell_type": "code",
   "execution_count": 44,
   "metadata": {},
   "outputs": [],
   "source": [
    "subjects = grouped.select(\"subject\").distinct()\n",
    "train_subjects, test_subjects = subjects.randomSplit([0.7, 0.3])\n",
    "\n",
    "train_df = grouped.join(train_subjects, \"subject\").drop(\"subject\")\n",
    "test_df = grouped.join(test_subjects, \"subject\").drop(\"subject\")"
   ]
  },
  {
   "cell_type": "code",
   "execution_count": 47,
   "metadata": {},
   "outputs": [
    {
     "name": "stderr",
     "output_type": "stream",
     "text": [
      "21/08/24 13:43:36 WARN TaskSetManager: Stage 527 contains a task of very large size (8654 KiB). The maximum recommended task size is 1000 KiB.\n",
      "21/08/24 13:43:39 WARN TaskSetManager: Stage 530 contains a task of very large size (8654 KiB). The maximum recommended task size is 1000 KiB.\n",
      "21/08/24 13:43:40 WARN TaskSetManager: Stage 532 contains a task of very large size (8654 KiB). The maximum recommended task size is 1000 KiB.\n"
     ]
    }
   ],
   "source": [
    "\n",
    "from pyspark.ml import Pipeline\n",
    "from pyspark.ml.classification import DecisionTreeClassifier, RandomForestClassifier, GBTClassifier\n",
    "from pyspark.ml.feature import StringIndexer,  VectorIndexer, VectorAssembler, IndexToString\n",
    "\n",
    "# Index labels, adding metadata to the label column.\n",
    "# Fit on whole dataset to include all labels in index.\n",
    "labelIndexer = StringIndexer(inputCol=\"label\", outputCol=\"indexedLabel\").fit(grouped)\n",
    "train_data = labelIndexer.transform(train_df)\n",
    "test_data = labelIndexer.transform(test_df)\n",
    "\n",
    "featureAssembler = VectorAssembler(inputCols = num_cols, outputCol = \"features\")\n",
    "\n",
    "# Train a DecisionTree model.\n",
    "dt = DecisionTreeClassifier(labelCol=\"indexedLabel\", featuresCol=\"features\", maxDepth=10)\n",
    "\n",
    "# Chain indexers and tree in a Pipeline\n",
    "indexRevert = IndexToString(inputCol=\"prediction\", outputCol=\"predLabel\", labels=labelIndexer.labels)\n",
    "pipeline = Pipeline(stages=[featureAssembler, dt])\n",
    "\n",
    "# Train model.  This also runs the indexers.\n",
    "model = pipeline.fit(train_data)"
   ]
  },
  {
   "cell_type": "code",
   "execution_count": 48,
   "metadata": {},
   "outputs": [
    {
     "name": "stderr",
     "output_type": "stream",
     "text": [
      "21/08/24 13:46:17 WARN TaskSetManager: Stage 610 contains a task of very large size (8654 KiB). The maximum recommended task size is 1000 KiB.\n",
      "21/08/24 13:46:18 WARN TaskSetManager: Stage 612 contains a task of very large size (8654 KiB). The maximum recommended task size is 1000 KiB.\n"
     ]
    },
    {
     "name": "stdout",
     "output_type": "stream",
     "text": [
      "+----------+------------+--------------------+\n",
      "|prediction|indexedLabel|            features|\n",
      "+----------+------------+--------------------+\n",
      "|       0.0|         3.0|[-0.3790788402144...|\n",
      "|       0.0|         3.0|[-0.0041126379926...|\n",
      "|       0.0|         3.0|[-9.1602241620192...|\n",
      "|       0.0|         3.0|[-0.0070602165788...|\n",
      "|       0.0|         3.0|[0.02152862151651...|\n",
      "+----------+------------+--------------------+\n",
      "only showing top 5 rows\n",
      "\n"
     ]
    },
    {
     "name": "stderr",
     "output_type": "stream",
     "text": [
      "21/08/24 13:46:27 WARN TaskSetManager: Stage 626 contains a task of very large size (8654 KiB). The maximum recommended task size is 1000 KiB.\n",
      "21/08/24 13:46:28 WARN TaskSetManager: Stage 625 contains a task of very large size (8654 KiB). The maximum recommended task size is 1000 KiB.\n"
     ]
    },
    {
     "name": "stdout",
     "output_type": "stream",
     "text": [
      "Test Error = 0.114238 \n"
     ]
    },
    {
     "name": "stderr",
     "output_type": "stream",
     "text": []
    }
   ],
   "source": [
    "\n",
    "from pyspark.ml.evaluation import MulticlassClassificationEvaluator\n",
    "\n",
    "# Make predictions.\n",
    "predictions = model.transform(test_data)\n",
    "\n",
    "# Select example rows to display.\n",
    "predictions.select(\"prediction\", \"indexedLabel\", \"features\").show(5)\n",
    "\n",
    "# Select (prediction, true label) and compute test error\n",
    "evaluator = MulticlassClassificationEvaluator(\n",
    "    labelCol=\"indexedLabel\", predictionCol=\"prediction\", metricName=\"accuracy\")\n",
    "accuracy = evaluator.evaluate(predictions)\n",
    "print(\"Test Error = %g \" % (1.0 - accuracy))"
   ]
  },
  {
   "cell_type": "code",
   "execution_count": 51,
   "metadata": {},
   "outputs": [
    {
     "name": "stderr",
     "output_type": "stream",
     "text": [
      "/home/sebbo/Projekte/kontextsensitive-systeme/venv/lib/python3.9/site-packages/onnxconverter_common/topology.py:749: UserWarning: Some input names are not compliant with ONNX naming convention: ['avg(alpha_devicemotion)', 'avg(beta_devicemotion)', 'avg(gamma_devicemotion)', 'avg(x_devicemotion)', 'avg(y_devicemotion)', 'avg(z_devicemotion)', 'avg(alpha_deviceorientation)', 'avg(beta_deviceorientation)', 'avg(gamma_deviceorientation)', 'sum(alpha_devicemotion)', 'sum(beta_devicemotion)', 'sum(gamma_devicemotion)', 'sum(x_devicemotion)', 'sum(y_devicemotion)', 'sum(z_devicemotion)', 'sum(alpha_deviceorientation)', 'sum(beta_deviceorientation)', 'sum(gamma_deviceorientation)', 'max(alpha_devicemotion)', 'max(beta_devicemotion)', 'max(gamma_devicemotion)', 'max(x_devicemotion)', 'max(y_devicemotion)', 'max(z_devicemotion)', 'max(alpha_deviceorientation)', 'max(beta_deviceorientation)', 'max(gamma_deviceorientation)', 'var_samp(alpha_devicemotion)', 'var_samp(beta_devicemotion)', 'var_samp(gamma_devicemotion)', 'var_samp(x_devicemotion)', 'var_samp(y_devicemotion)', 'var_samp(z_devicemotion)', 'var_samp(alpha_deviceorientation)', 'var_samp(beta_deviceorientation)', 'var_samp(gamma_deviceorientation)', 'min(alpha_devicemotion)', 'min(beta_devicemotion)', 'min(gamma_devicemotion)', 'min(x_devicemotion)', 'min(y_devicemotion)', 'min(z_devicemotion)', 'min(alpha_deviceorientation)', 'min(beta_deviceorientation)', 'min(gamma_deviceorientation)']\n",
      "  warnings.warn('Some input names are not compliant with ONNX naming convention: %s' % invalid_name)\n",
      "The maximum opset needed by this model is only 4.\n"
     ]
    }
   ],
   "source": [
    "from onnxmltools import convert_sparkml, utils\n",
    "from onnxmltools.convert.sparkml.utils import buildInitialTypesSimple\n",
    "\n",
    "initial_types = buildInitialTypesSimple(train_data.drop(\"indexedLabel\", \"label\"))\n",
    "onnx_model = convert_sparkml(model, 'Context Activity Predictor', initial_types, spark_session = spark)\n",
    "utils.save_model(onnx_model, 'ks_context.onnx')"
   ]
  },
  {
   "cell_type": "code",
   "execution_count": null,
   "metadata": {},
   "outputs": [
    {
     "name": "stdout",
     "output_type": "stream",
     "text": [
      "['studying', 'driving', 'standing', 'sleeping', 'jogging']\n"
     ]
    }
   ],
   "source": [
    "print(labelIndexer.labels)"
   ]
  },
  {
   "cell_type": "code",
   "execution_count": null,
   "metadata": {},
   "outputs": [],
   "source": []
  }
 ],
 "metadata": {
  "colab": {
   "collapsed_sections": [],
   "name": "Classification.ipynb",
   "provenance": []
  },
  "interpreter": {
   "hash": "e7370f93d1d0cde622a1f8e1c04877d8463912d04d973331ad4851f04de6915a"
  },
  "kernelspec": {
   "display_name": "Python 3.9.6 64-bit",
   "name": "python3"
  },
  "language_info": {
   "codemirror_mode": {
    "name": "ipython",
    "version": 3
   },
   "file_extension": ".py",
   "mimetype": "text/x-python",
   "name": "python",
   "nbconvert_exporter": "python",
   "pygments_lexer": "ipython3",
   "version": "3.9.6"
  }
 },
 "nbformat": 4,
 "nbformat_minor": 1
}