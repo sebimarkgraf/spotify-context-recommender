{
  "cells": [
    {
      "cell_type": "markdown",
      "metadata": {
        "collapsed": true,
        "id": "OobypUVwTqca"
      },
      "source": [
        "# Feature Extraction aus InfluxDB und Klassifikation\n",
        "\n",
        "## Imports"
      ]
    },
    {
      "cell_type": "code",
      "execution_count": null,
      "metadata": {
        "id": "GX9m6G7rT9ZS"
      },
      "outputs": [
        {
          "name": "stdout",
          "output_type": "stream",
          "text": [
            "\u001b[33mWARNING: You are using pip version 21.1.3; however, version 21.2.4 is available.\n",
            "You should consider upgrading via the '/home/sebbo/Projekte/kontextsensitive-systeme/venv/bin/python -m pip install --upgrade pip' command.\u001b[0m\n"
          ]
        }
      ],
      "source": [
        "#!pip install -q influxdb_client ppscore"
      ]
    },
    {
      "cell_type": "code",
      "execution_count": 10,
      "metadata": {
        "id": "wrQFqJ9LTqci"
      },
      "outputs": [
        {
          "name": "stderr",
          "output_type": "stream",
          "text": []
        }
      ],
      "source": [
        "import numpy as np\n",
        "import pandas as pd\n",
        "import seaborn as sns\n",
        "from influxdb_client import InfluxDBClient\n",
        "import matplotlib.pyplot as plt"
      ]
    },
    {
      "cell_type": "markdown",
      "metadata": {
        "collapsed": false,
        "id": "MnxcO-NXTqcn"
      },
      "source": [
        "## Daten Laden\n",
        "Wier wollen die Daten direkt aus Influx Laden.\n",
        "Dafür bauen wir zuerst eine Connection zur Influx Instanz auf"
      ]
    },
    {
      "cell_type": "code",
      "execution_count": 11,
      "metadata": {
        "id": "IfcEQxz1Tqcp"
      },
      "outputs": [
        {
          "name": "stderr",
          "output_type": "stream",
          "text": []
        }
      ],
      "source": [
        "BUCKET = \"extended_labels\"\n",
        "URL = \"https://css21.teco.edu\"\n",
        "TOKEN = \"***REMOVED***\"\n",
        "ORG = \"css21\"\n",
        "client = InfluxDBClient(url=URL, token=TOKEN, org=ORG, verify_ssl=False)\n",
        "query_api = client.query_api()"
      ]
    },
    {
      "cell_type": "markdown",
      "metadata": {
        "collapsed": false,
        "id": "cT5IJACoTqct"
      },
      "source": [
        "### Querying Influx\n",
        "Der Query wird in Flux geschrieben"
      ]
    },
    {
      "cell_type": "code",
      "execution_count": 12,
      "metadata": {
        "colab": {
          "base_uri": "https://localhost:8080/"
        },
        "id": "yBY4X0juTqcu",
        "outputId": "f937962d-4cbe-4eea-a5dc-d6e6887510ff"
      },
      "outputs": [
        {
          "name": "stderr",
          "output_type": "stream",
          "text": [
            "/home/sebbo/Projekte/kontextsensitive-systeme/venv/lib/python3.9/site-packages/urllib3/connectionpool.py:1013: InsecureRequestWarning: Unverified HTTPS request is being made to host 'css21.teco.edu'. Adding certificate verification is strongly advised. See: https://urllib3.readthedocs.io/en/1.26.x/advanced-usage.html#ssl-warnings\n",
            "  warnings.warn(\n"
          ]
        },
        {
          "data": {
            "text/html": [
              "<div>\n",
              "<style scoped>\n",
              "    .dataframe tbody tr th:only-of-type {\n",
              "        vertical-align: middle;\n",
              "    }\n",
              "\n",
              "    .dataframe tbody tr th {\n",
              "        vertical-align: top;\n",
              "    }\n",
              "\n",
              "    .dataframe thead th {\n",
              "        text-align: right;\n",
              "    }\n",
              "</style>\n",
              "<table border=\"1\" class=\"dataframe\">\n",
              "  <thead>\n",
              "    <tr style=\"text-align: right;\">\n",
              "      <th></th>\n",
              "      <th>label</th>\n",
              "      <th>subject</th>\n",
              "      <th>alpha_devicemotion</th>\n",
              "      <th>beta_devicemotion</th>\n",
              "      <th>gamma_devicemotion</th>\n",
              "      <th>x_devicemotion</th>\n",
              "      <th>x0_devicemotion</th>\n",
              "      <th>y_devicemotion</th>\n",
              "      <th>y0_devicemotion</th>\n",
              "      <th>z_devicemotion</th>\n",
              "      <th>z0_devicemotion</th>\n",
              "      <th>alpha_deviceorientation</th>\n",
              "      <th>beta_deviceorientation</th>\n",
              "      <th>gamma_deviceorientation</th>\n",
              "    </tr>\n",
              "    <tr>\n",
              "      <th>_time</th>\n",
              "      <th></th>\n",
              "      <th></th>\n",
              "      <th></th>\n",
              "      <th></th>\n",
              "      <th></th>\n",
              "      <th></th>\n",
              "      <th></th>\n",
              "      <th></th>\n",
              "      <th></th>\n",
              "      <th></th>\n",
              "      <th></th>\n",
              "      <th></th>\n",
              "      <th></th>\n",
              "      <th></th>\n",
              "    </tr>\n",
              "  </thead>\n",
              "  <tbody>\n",
              "    <tr>\n",
              "      <th>2021-08-14 11:58:37.871000+00:00</th>\n",
              "      <td>driving</td>\n",
              "      <td>0c86078c3e</td>\n",
              "      <td>23.695926</td>\n",
              "      <td>-41.337541</td>\n",
              "      <td>-9.004711</td>\n",
              "      <td>0.774075</td>\n",
              "      <td>0.479989</td>\n",
              "      <td>-5.938367</td>\n",
              "      <td>0.633047</td>\n",
              "      <td>-9.519047</td>\n",
              "      <td>-2.245780</td>\n",
              "      <td>NaN</td>\n",
              "      <td>NaN</td>\n",
              "      <td>NaN</td>\n",
              "    </tr>\n",
              "    <tr>\n",
              "      <th>2021-08-14 11:58:37.887000+00:00</th>\n",
              "      <td>driving</td>\n",
              "      <td>0c86078c3e</td>\n",
              "      <td>52.862054</td>\n",
              "      <td>-18.493067</td>\n",
              "      <td>-2.514026</td>\n",
              "      <td>0.685190</td>\n",
              "      <td>0.455864</td>\n",
              "      <td>-6.186018</td>\n",
              "      <td>0.483131</td>\n",
              "      <td>-9.409512</td>\n",
              "      <td>-2.223397</td>\n",
              "      <td>NaN</td>\n",
              "      <td>NaN</td>\n",
              "      <td>NaN</td>\n",
              "    </tr>\n",
              "    <tr>\n",
              "      <th>2021-08-14 11:58:37.903000+00:00</th>\n",
              "      <td>driving</td>\n",
              "      <td>0c86078c3e</td>\n",
              "      <td>65.476283</td>\n",
              "      <td>4.852037</td>\n",
              "      <td>-1.505551</td>\n",
              "      <td>0.137966</td>\n",
              "      <td>-0.083518</td>\n",
              "      <td>-5.850979</td>\n",
              "      <td>0.967563</td>\n",
              "      <td>-8.309975</td>\n",
              "      <td>-1.265203</td>\n",
              "      <td>NaN</td>\n",
              "      <td>NaN</td>\n",
              "      <td>NaN</td>\n",
              "    </tr>\n",
              "    <tr>\n",
              "      <th>2021-08-14 11:58:37.920000+00:00</th>\n",
              "      <td>driving</td>\n",
              "      <td>0c86078c3e</td>\n",
              "      <td>59.653137</td>\n",
              "      <td>3.318965</td>\n",
              "      <td>-8.634220</td>\n",
              "      <td>-0.124648</td>\n",
              "      <td>-0.371062</td>\n",
              "      <td>-6.084713</td>\n",
              "      <td>0.887691</td>\n",
              "      <td>-7.275830</td>\n",
              "      <td>-0.384150</td>\n",
              "      <td>NaN</td>\n",
              "      <td>NaN</td>\n",
              "      <td>NaN</td>\n",
              "    </tr>\n",
              "    <tr>\n",
              "      <th>2021-08-14 11:58:37.937000+00:00</th>\n",
              "      <td>driving</td>\n",
              "      <td>0c86078c3e</td>\n",
              "      <td>51.026444</td>\n",
              "      <td>-1.898931</td>\n",
              "      <td>-12.700321</td>\n",
              "      <td>-0.046388</td>\n",
              "      <td>-0.306667</td>\n",
              "      <td>-6.291212</td>\n",
              "      <td>0.746649</td>\n",
              "      <td>-6.849212</td>\n",
              "      <td>-0.024907</td>\n",
              "      <td>NaN</td>\n",
              "      <td>NaN</td>\n",
              "      <td>NaN</td>\n",
              "    </tr>\n",
              "    <tr>\n",
              "      <th>...</th>\n",
              "      <td>...</td>\n",
              "      <td>...</td>\n",
              "      <td>...</td>\n",
              "      <td>...</td>\n",
              "      <td>...</td>\n",
              "      <td>...</td>\n",
              "      <td>...</td>\n",
              "      <td>...</td>\n",
              "      <td>...</td>\n",
              "      <td>...</td>\n",
              "      <td>...</td>\n",
              "      <td>...</td>\n",
              "      <td>...</td>\n",
              "      <td>...</td>\n",
              "    </tr>\n",
              "    <tr>\n",
              "      <th>2021-08-16 18:38:02.321000+00:00</th>\n",
              "      <td>studying</td>\n",
              "      <td>54g63ej0b6</td>\n",
              "      <td>NaN</td>\n",
              "      <td>NaN</td>\n",
              "      <td>NaN</td>\n",
              "      <td>NaN</td>\n",
              "      <td>NaN</td>\n",
              "      <td>NaN</td>\n",
              "      <td>NaN</td>\n",
              "      <td>NaN</td>\n",
              "      <td>NaN</td>\n",
              "      <td>299.269592</td>\n",
              "      <td>109.146642</td>\n",
              "      <td>38.700252</td>\n",
              "    </tr>\n",
              "    <tr>\n",
              "      <th>2021-08-16 18:38:02.337000+00:00</th>\n",
              "      <td>studying</td>\n",
              "      <td>54g63ej0b6</td>\n",
              "      <td>NaN</td>\n",
              "      <td>NaN</td>\n",
              "      <td>NaN</td>\n",
              "      <td>NaN</td>\n",
              "      <td>NaN</td>\n",
              "      <td>NaN</td>\n",
              "      <td>NaN</td>\n",
              "      <td>NaN</td>\n",
              "      <td>NaN</td>\n",
              "      <td>299.473033</td>\n",
              "      <td>109.179841</td>\n",
              "      <td>38.523123</td>\n",
              "    </tr>\n",
              "    <tr>\n",
              "      <th>2021-08-16 18:38:02.356000+00:00</th>\n",
              "      <td>studying</td>\n",
              "      <td>54g63ej0b6</td>\n",
              "      <td>NaN</td>\n",
              "      <td>NaN</td>\n",
              "      <td>NaN</td>\n",
              "      <td>NaN</td>\n",
              "      <td>NaN</td>\n",
              "      <td>NaN</td>\n",
              "      <td>NaN</td>\n",
              "      <td>NaN</td>\n",
              "      <td>NaN</td>\n",
              "      <td>299.459797</td>\n",
              "      <td>109.088567</td>\n",
              "      <td>38.427122</td>\n",
              "    </tr>\n",
              "    <tr>\n",
              "      <th>2021-08-16 18:38:02.372000+00:00</th>\n",
              "      <td>studying</td>\n",
              "      <td>54g63ej0b6</td>\n",
              "      <td>NaN</td>\n",
              "      <td>NaN</td>\n",
              "      <td>NaN</td>\n",
              "      <td>NaN</td>\n",
              "      <td>NaN</td>\n",
              "      <td>NaN</td>\n",
              "      <td>NaN</td>\n",
              "      <td>NaN</td>\n",
              "      <td>NaN</td>\n",
              "      <td>299.517861</td>\n",
              "      <td>108.998619</td>\n",
              "      <td>38.387978</td>\n",
              "    </tr>\n",
              "    <tr>\n",
              "      <th>2021-08-16 18:38:02.388000+00:00</th>\n",
              "      <td>studying</td>\n",
              "      <td>54g63ej0b6</td>\n",
              "      <td>NaN</td>\n",
              "      <td>NaN</td>\n",
              "      <td>NaN</td>\n",
              "      <td>NaN</td>\n",
              "      <td>NaN</td>\n",
              "      <td>NaN</td>\n",
              "      <td>NaN</td>\n",
              "      <td>NaN</td>\n",
              "      <td>NaN</td>\n",
              "      <td>299.814896</td>\n",
              "      <td>108.971415</td>\n",
              "      <td>38.254417</td>\n",
              "    </tr>\n",
              "  </tbody>\n",
              "</table>\n",
              "<p>28033 rows × 14 columns</p>\n",
              "</div>"
            ],
            "text/plain": [
              "                                     label     subject  alpha_devicemotion  \\\n",
              "_time                                                                        \n",
              "2021-08-14 11:58:37.871000+00:00   driving  0c86078c3e           23.695926   \n",
              "2021-08-14 11:58:37.887000+00:00   driving  0c86078c3e           52.862054   \n",
              "2021-08-14 11:58:37.903000+00:00   driving  0c86078c3e           65.476283   \n",
              "2021-08-14 11:58:37.920000+00:00   driving  0c86078c3e           59.653137   \n",
              "2021-08-14 11:58:37.937000+00:00   driving  0c86078c3e           51.026444   \n",
              "...                                    ...         ...                 ...   \n",
              "2021-08-16 18:38:02.321000+00:00  studying  54g63ej0b6                 NaN   \n",
              "2021-08-16 18:38:02.337000+00:00  studying  54g63ej0b6                 NaN   \n",
              "2021-08-16 18:38:02.356000+00:00  studying  54g63ej0b6                 NaN   \n",
              "2021-08-16 18:38:02.372000+00:00  studying  54g63ej0b6                 NaN   \n",
              "2021-08-16 18:38:02.388000+00:00  studying  54g63ej0b6                 NaN   \n",
              "\n",
              "                                  beta_devicemotion  gamma_devicemotion  \\\n",
              "_time                                                                     \n",
              "2021-08-14 11:58:37.871000+00:00         -41.337541           -9.004711   \n",
              "2021-08-14 11:58:37.887000+00:00         -18.493067           -2.514026   \n",
              "2021-08-14 11:58:37.903000+00:00           4.852037           -1.505551   \n",
              "2021-08-14 11:58:37.920000+00:00           3.318965           -8.634220   \n",
              "2021-08-14 11:58:37.937000+00:00          -1.898931          -12.700321   \n",
              "...                                             ...                 ...   \n",
              "2021-08-16 18:38:02.321000+00:00                NaN                 NaN   \n",
              "2021-08-16 18:38:02.337000+00:00                NaN                 NaN   \n",
              "2021-08-16 18:38:02.356000+00:00                NaN                 NaN   \n",
              "2021-08-16 18:38:02.372000+00:00                NaN                 NaN   \n",
              "2021-08-16 18:38:02.388000+00:00                NaN                 NaN   \n",
              "\n",
              "                                  x_devicemotion  x0_devicemotion  \\\n",
              "_time                                                               \n",
              "2021-08-14 11:58:37.871000+00:00        0.774075         0.479989   \n",
              "2021-08-14 11:58:37.887000+00:00        0.685190         0.455864   \n",
              "2021-08-14 11:58:37.903000+00:00        0.137966        -0.083518   \n",
              "2021-08-14 11:58:37.920000+00:00       -0.124648        -0.371062   \n",
              "2021-08-14 11:58:37.937000+00:00       -0.046388        -0.306667   \n",
              "...                                          ...              ...   \n",
              "2021-08-16 18:38:02.321000+00:00             NaN              NaN   \n",
              "2021-08-16 18:38:02.337000+00:00             NaN              NaN   \n",
              "2021-08-16 18:38:02.356000+00:00             NaN              NaN   \n",
              "2021-08-16 18:38:02.372000+00:00             NaN              NaN   \n",
              "2021-08-16 18:38:02.388000+00:00             NaN              NaN   \n",
              "\n",
              "                                  y_devicemotion  y0_devicemotion  \\\n",
              "_time                                                               \n",
              "2021-08-14 11:58:37.871000+00:00       -5.938367         0.633047   \n",
              "2021-08-14 11:58:37.887000+00:00       -6.186018         0.483131   \n",
              "2021-08-14 11:58:37.903000+00:00       -5.850979         0.967563   \n",
              "2021-08-14 11:58:37.920000+00:00       -6.084713         0.887691   \n",
              "2021-08-14 11:58:37.937000+00:00       -6.291212         0.746649   \n",
              "...                                          ...              ...   \n",
              "2021-08-16 18:38:02.321000+00:00             NaN              NaN   \n",
              "2021-08-16 18:38:02.337000+00:00             NaN              NaN   \n",
              "2021-08-16 18:38:02.356000+00:00             NaN              NaN   \n",
              "2021-08-16 18:38:02.372000+00:00             NaN              NaN   \n",
              "2021-08-16 18:38:02.388000+00:00             NaN              NaN   \n",
              "\n",
              "                                  z_devicemotion  z0_devicemotion  \\\n",
              "_time                                                               \n",
              "2021-08-14 11:58:37.871000+00:00       -9.519047        -2.245780   \n",
              "2021-08-14 11:58:37.887000+00:00       -9.409512        -2.223397   \n",
              "2021-08-14 11:58:37.903000+00:00       -8.309975        -1.265203   \n",
              "2021-08-14 11:58:37.920000+00:00       -7.275830        -0.384150   \n",
              "2021-08-14 11:58:37.937000+00:00       -6.849212        -0.024907   \n",
              "...                                          ...              ...   \n",
              "2021-08-16 18:38:02.321000+00:00             NaN              NaN   \n",
              "2021-08-16 18:38:02.337000+00:00             NaN              NaN   \n",
              "2021-08-16 18:38:02.356000+00:00             NaN              NaN   \n",
              "2021-08-16 18:38:02.372000+00:00             NaN              NaN   \n",
              "2021-08-16 18:38:02.388000+00:00             NaN              NaN   \n",
              "\n",
              "                                  alpha_deviceorientation  \\\n",
              "_time                                                       \n",
              "2021-08-14 11:58:37.871000+00:00                      NaN   \n",
              "2021-08-14 11:58:37.887000+00:00                      NaN   \n",
              "2021-08-14 11:58:37.903000+00:00                      NaN   \n",
              "2021-08-14 11:58:37.920000+00:00                      NaN   \n",
              "2021-08-14 11:58:37.937000+00:00                      NaN   \n",
              "...                                                   ...   \n",
              "2021-08-16 18:38:02.321000+00:00               299.269592   \n",
              "2021-08-16 18:38:02.337000+00:00               299.473033   \n",
              "2021-08-16 18:38:02.356000+00:00               299.459797   \n",
              "2021-08-16 18:38:02.372000+00:00               299.517861   \n",
              "2021-08-16 18:38:02.388000+00:00               299.814896   \n",
              "\n",
              "                                  beta_deviceorientation  \\\n",
              "_time                                                      \n",
              "2021-08-14 11:58:37.871000+00:00                     NaN   \n",
              "2021-08-14 11:58:37.887000+00:00                     NaN   \n",
              "2021-08-14 11:58:37.903000+00:00                     NaN   \n",
              "2021-08-14 11:58:37.920000+00:00                     NaN   \n",
              "2021-08-14 11:58:37.937000+00:00                     NaN   \n",
              "...                                                  ...   \n",
              "2021-08-16 18:38:02.321000+00:00              109.146642   \n",
              "2021-08-16 18:38:02.337000+00:00              109.179841   \n",
              "2021-08-16 18:38:02.356000+00:00              109.088567   \n",
              "2021-08-16 18:38:02.372000+00:00              108.998619   \n",
              "2021-08-16 18:38:02.388000+00:00              108.971415   \n",
              "\n",
              "                                  gamma_deviceorientation  \n",
              "_time                                                      \n",
              "2021-08-14 11:58:37.871000+00:00                      NaN  \n",
              "2021-08-14 11:58:37.887000+00:00                      NaN  \n",
              "2021-08-14 11:58:37.903000+00:00                      NaN  \n",
              "2021-08-14 11:58:37.920000+00:00                      NaN  \n",
              "2021-08-14 11:58:37.937000+00:00                      NaN  \n",
              "...                                                   ...  \n",
              "2021-08-16 18:38:02.321000+00:00                38.700252  \n",
              "2021-08-16 18:38:02.337000+00:00                38.523123  \n",
              "2021-08-16 18:38:02.356000+00:00                38.427122  \n",
              "2021-08-16 18:38:02.372000+00:00                38.387978  \n",
              "2021-08-16 18:38:02.388000+00:00                38.254417  \n",
              "\n",
              "[28033 rows x 14 columns]"
            ]
          },
          "execution_count": 12,
          "metadata": {},
          "output_type": "execute_result"
        }
      ],
      "source": [
        "query = '''\n",
        "    from(bucket: bucket)\n",
        "      |> range(start: -7d, stop: now())\n",
        "      |> filter(fn: (r) => r.label != \"testing\")\n",
        "      |> pivot(rowKey: [\"_time\", \"label\", \"subject\"], columnKey: [\"_field\", \"_measurement\"], valueColumn: \"_value\")\n",
        "'''\n",
        "params = {\n",
        "    \"bucket\": BUCKET\n",
        "}\n",
        "result = query_api.query_data_frame(query, params=params)\n",
        "result = result.set_index(\"_time\", drop=True)\n",
        "result = result.drop(columns=[\"table\", \"result\", \"_start\", \"_stop\", \"browser\", \"mobile\"])\n",
        "result[\"label\"] = pd.Categorical(result[\"label\"])\n",
        "result\n"
      ]
    },
    {
      "cell_type": "markdown",
      "metadata": {
        "collapsed": false,
        "id": "xivpJBs6Tqcy"
      },
      "source": [
        "## Feature Extraction"
      ]
    },
    {
      "cell_type": "code",
      "execution_count": 13,
      "metadata": {},
      "outputs": [],
      "source": [
        "import findspark\n",
        "findspark.init(\"/opt/apache-spark/\")\n",
        "\n",
        "from pyspark.sql import SparkSession\n",
        "spark = SparkSession.builder.getOrCreate()"
      ]
    },
    {
      "cell_type": "code",
      "execution_count": 14,
      "metadata": {},
      "outputs": [],
      "source": [
        "df = spark.createDataFrame(result.reset_index(\n",
        "))"
      ]
    },
    {
      "cell_type": "code",
      "execution_count": 23,
      "metadata": {
        "id": "sMU3xQ2ATqcz"
      },
      "outputs": [
        {
          "data": {
            "text/plain": [
              "DataFrame[label: string, avg(alpha_devicemotion): double, avg(beta_devicemotion): double, avg(gamma_devicemotion): double, avg(x_devicemotion): double, avg(y_devicemotion): double, avg(z_devicemotion): double, avg(alpha_deviceorientation): double, avg(beta_deviceorientation): double, avg(gamma_deviceorientation): double, sum(alpha_devicemotion): double, sum(beta_devicemotion): double, sum(gamma_devicemotion): double, sum(x_devicemotion): double, sum(y_devicemotion): double, sum(z_devicemotion): double, sum(alpha_deviceorientation): double, sum(beta_deviceorientation): double, sum(gamma_deviceorientation): double, max(alpha_devicemotion): double, max(beta_devicemotion): double, max(gamma_devicemotion): double, max(x_devicemotion): double, max(y_devicemotion): double, max(z_devicemotion): double, max(alpha_deviceorientation): double, max(beta_deviceorientation): double, max(gamma_deviceorientation): double, var_samp(alpha_devicemotion): double, var_samp(beta_devicemotion): double, var_samp(gamma_devicemotion): double, var_samp(x_devicemotion): double, var_samp(y_devicemotion): double, var_samp(z_devicemotion): double, var_samp(alpha_deviceorientation): double, var_samp(beta_deviceorientation): double, var_samp(gamma_deviceorientation): double, min(alpha_devicemotion): double, min(beta_devicemotion): double, min(gamma_devicemotion): double, min(x_devicemotion): double, min(y_devicemotion): double, min(z_devicemotion): double, min(alpha_deviceorientation): double, min(beta_deviceorientation): double, min(gamma_deviceorientation): double]"
            ]
          },
          "execution_count": 23,
          "metadata": {},
          "output_type": "execute_result"
        }
      ],
      "source": [
        "from pyspark.sql.functions import col,  window, mean, sum as _sum, max as _max, min as _min, var_samp, to_timestamp\n",
        "\n",
        "\n",
        "df = df.withColumn(\"_time\", to_timestamp(\"_time\"))\n",
        "w = window(\"_time\", \"1 seconds\")\n",
        "\n",
        "aggregate = [\"alpha_devicemotion\", \"beta_devicemotion\", \"gamma_devicemotion\", \"x_devicemotion\", \"y_devicemotion\", \"z_devicemotion\", \"alpha_deviceorientation\", \"beta_deviceorientation\", \"gamma_deviceorientation\"] \n",
        "funs = [mean, _sum, _max, var_samp, _min]\n",
        "\n",
        "exprs = [f(col(c)) for f in funs for c in aggregate]\n",
        "\n",
        "grouped = df.fillna(0).groupBy([w, \"subject\", \"label\"]).agg(*exprs)\n",
        "grouped = grouped.drop(\"subject\", \"window\")\n",
        "grouped"
      ]
    },
    {
      "cell_type": "markdown",
      "metadata": {
        "id": "DRcQ5s8t3B99"
      },
      "source": [
        "## Trainings\n",
        "\n",
        "Let's build a pipeline and traing it using spark."
      ]
    },
    {
      "cell_type": "code",
      "execution_count": 24,
      "metadata": {
        "id": "Ng0RJA_oTqc3"
      },
      "outputs": [
        {
          "data": {
            "text/plain": [
              "['avg(alpha_devicemotion)',\n",
              " 'avg(beta_devicemotion)',\n",
              " 'avg(gamma_devicemotion)',\n",
              " 'avg(x_devicemotion)',\n",
              " 'avg(y_devicemotion)',\n",
              " 'avg(z_devicemotion)',\n",
              " 'avg(alpha_deviceorientation)',\n",
              " 'avg(beta_deviceorientation)',\n",
              " 'avg(gamma_deviceorientation)',\n",
              " 'sum(alpha_devicemotion)',\n",
              " 'sum(beta_devicemotion)',\n",
              " 'sum(gamma_devicemotion)',\n",
              " 'sum(x_devicemotion)',\n",
              " 'sum(y_devicemotion)',\n",
              " 'sum(z_devicemotion)',\n",
              " 'sum(alpha_deviceorientation)',\n",
              " 'sum(beta_deviceorientation)',\n",
              " 'sum(gamma_deviceorientation)',\n",
              " 'max(alpha_devicemotion)',\n",
              " 'max(beta_devicemotion)',\n",
              " 'max(gamma_devicemotion)',\n",
              " 'max(x_devicemotion)',\n",
              " 'max(y_devicemotion)',\n",
              " 'max(z_devicemotion)',\n",
              " 'max(alpha_deviceorientation)',\n",
              " 'max(beta_deviceorientation)',\n",
              " 'max(gamma_deviceorientation)',\n",
              " 'var_samp(alpha_devicemotion)',\n",
              " 'var_samp(beta_devicemotion)',\n",
              " 'var_samp(gamma_devicemotion)',\n",
              " 'var_samp(x_devicemotion)',\n",
              " 'var_samp(y_devicemotion)',\n",
              " 'var_samp(z_devicemotion)',\n",
              " 'var_samp(alpha_deviceorientation)',\n",
              " 'var_samp(beta_deviceorientation)',\n",
              " 'var_samp(gamma_deviceorientation)',\n",
              " 'min(alpha_devicemotion)',\n",
              " 'min(beta_devicemotion)',\n",
              " 'min(gamma_devicemotion)',\n",
              " 'min(x_devicemotion)',\n",
              " 'min(y_devicemotion)',\n",
              " 'min(z_devicemotion)',\n",
              " 'min(alpha_deviceorientation)',\n",
              " 'min(beta_deviceorientation)',\n",
              " 'min(gamma_deviceorientation)']"
            ]
          },
          "execution_count": 24,
          "metadata": {},
          "output_type": "execute_result"
        }
      ],
      "source": [
        "from pyspark.sql.types import StringType, DoubleType\n",
        "\n",
        "num_cols = [f.name for f in grouped.schema.fields if isinstance(f.dataType, DoubleType)]\n",
        "\n",
        "num_cols"
      ]
    },
    {
      "cell_type": "code",
      "execution_count": 25,
      "metadata": {},
      "outputs": [
        {
          "name": "stderr",
          "output_type": "stream",
          "text": []
        }
      ],
      "source": [
        "\n",
        "from pyspark.ml import Pipeline\n",
        "from pyspark.ml.classification import DecisionTreeClassifier\n",
        "from pyspark.ml.feature import StringIndexer,  VectorIndexer, VectorAssembler\n",
        "\n",
        "#indexer = StringIndexer(inputCol=\"label\", outputCol=\"class\")\n",
        "#classifier = DecisionTreeClassifier(labelCol=\"class\")\n",
        "#pipeline = Pipeline(stages = [indexer, classifier])\n",
        "#pipeline.fit(grouped)\n",
        "\n",
        "# Index labels, adding metadata to the label column.\n",
        "# Fit on whole dataset to include all labels in index.\n",
        "labelIndexer = StringIndexer(inputCol=\"label\", outputCol=\"indexedLabel\").fit(grouped)\n",
        "data = labelIndexer.transform(grouped)\n",
        "featureAssembler = VectorAssembler(inputCols = num_cols, outputCol = \"features\")\n",
        "\n",
        "# Split the data into training and test sets (30% held out for testing)\n",
        "(trainingData, testData) = data.randomSplit([0.7, 0.3])\n",
        "\n",
        "# Train a DecisionTree model.\n",
        "dt = DecisionTreeClassifier(labelCol=\"indexedLabel\", featuresCol=\"features\")\n",
        "\n",
        "# Chain indexers and tree in a Pipeline\n",
        "pipeline = Pipeline(stages=[featureAssembler, dt])\n",
        "\n",
        "# Train model.  This also runs the indexers.\n",
        "model = pipeline.fit(trainingData)"
      ]
    },
    {
      "cell_type": "code",
      "execution_count": 26,
      "metadata": {},
      "outputs": [
        {
          "name": "stdout",
          "output_type": "stream",
          "text": [
            "+----------+------------+--------------------+\n",
            "|prediction|indexedLabel|            features|\n",
            "+----------+------------+--------------------+\n",
            "|       0.0|         0.0|[6.44481227728700...|\n",
            "|       1.0|         0.0|[-16.428980157945...|\n",
            "|       0.0|         0.0|[1.83285737767647...|\n",
            "|       0.0|         0.0|[-3.1919074347925...|\n",
            "|       0.0|         0.0|[1.24639641941886...|\n",
            "+----------+------------+--------------------+\n",
            "only showing top 5 rows\n",
            "\n"
          ]
        },
        {
          "name": "stderr",
          "output_type": "stream",
          "text": []
        },
        {
          "name": "stdout",
          "output_type": "stream",
          "text": [
            "Test Error = 0.0649351 \n"
          ]
        },
        {
          "name": "stderr",
          "output_type": "stream",
          "text": []
        }
      ],
      "source": [
        "\n",
        "from pyspark.ml.evaluation import MulticlassClassificationEvaluator\n",
        "\n",
        "# Make predictions.\n",
        "predictions = model.transform(testData)\n",
        "\n",
        "# Select example rows to display.\n",
        "predictions.select(\"prediction\", \"indexedLabel\", \"features\").show(5)\n",
        "\n",
        "# Select (prediction, true label) and compute test error\n",
        "evaluator = MulticlassClassificationEvaluator(\n",
        "    labelCol=\"indexedLabel\", predictionCol=\"prediction\", metricName=\"accuracy\")\n",
        "accuracy = evaluator.evaluate(predictions)\n",
        "print(\"Test Error = %g \" % (1.0 - accuracy))"
      ]
    },
    {
      "cell_type": "code",
      "execution_count": 29,
      "metadata": {},
      "outputs": [
        {
          "name": "stderr",
          "output_type": "stream",
          "text": [
            "/home/sebbo/Projekte/kontextsensitive-systeme/venv/lib/python3.9/site-packages/onnxconverter_common/topology.py:749: UserWarning: Some input names are not compliant with ONNX naming convention: ['avg(alpha_devicemotion)', 'avg(beta_devicemotion)', 'avg(gamma_devicemotion)', 'avg(x_devicemotion)', 'avg(y_devicemotion)', 'avg(z_devicemotion)', 'avg(alpha_deviceorientation)', 'avg(beta_deviceorientation)', 'avg(gamma_deviceorientation)', 'sum(alpha_devicemotion)', 'sum(beta_devicemotion)', 'sum(gamma_devicemotion)', 'sum(x_devicemotion)', 'sum(y_devicemotion)', 'sum(z_devicemotion)', 'sum(alpha_deviceorientation)', 'sum(beta_deviceorientation)', 'sum(gamma_deviceorientation)', 'max(alpha_devicemotion)', 'max(beta_devicemotion)', 'max(gamma_devicemotion)', 'max(x_devicemotion)', 'max(y_devicemotion)', 'max(z_devicemotion)', 'max(alpha_deviceorientation)', 'max(beta_deviceorientation)', 'max(gamma_deviceorientation)', 'var_samp(alpha_devicemotion)', 'var_samp(beta_devicemotion)', 'var_samp(gamma_devicemotion)', 'var_samp(x_devicemotion)', 'var_samp(y_devicemotion)', 'var_samp(z_devicemotion)', 'var_samp(alpha_deviceorientation)', 'var_samp(beta_deviceorientation)', 'var_samp(gamma_deviceorientation)', 'min(alpha_devicemotion)', 'min(beta_devicemotion)', 'min(gamma_devicemotion)', 'min(x_devicemotion)', 'min(y_devicemotion)', 'min(z_devicemotion)', 'min(alpha_deviceorientation)', 'min(beta_deviceorientation)', 'min(gamma_deviceorientation)']\n",
            "  warnings.warn('Some input names are not compliant with ONNX naming convention: %s' % invalid_name)\n",
            "The maximum opset needed by this model is only 4.\n"
          ]
        }
      ],
      "source": [
        "from onnxmltools import convert_sparkml, utils\n",
        "from onnxmltools.convert.sparkml.utils import buildInitialTypesSimple\n",
        "\n",
        "initial_types = buildInitialTypesSimple(grouped.drop(\"label\"))\n",
        "onnx_model = convert_sparkml(model, 'Pyspark model', initial_types, spark_session = spark)\n",
        "utils.save_model(onnx_model, 'ks_context.onnx')"
      ]
    }
  ],
  "metadata": {
    "colab": {
      "collapsed_sections": [],
      "name": "Classification.ipynb",
      "provenance": []
    },
    "interpreter": {
      "hash": "57666338d648dcb499915f5f832bfa613b43045a8dcbcd530cb99be02850d404"
    },
    "kernelspec": {
      "display_name": "Python 3.9.6 64-bit ('venv': venv)",
      "name": "python3"
    },
    "language_info": {
      "codemirror_mode": {
        "name": "ipython",
        "version": 3
      },
      "file_extension": ".py",
      "mimetype": "text/x-python",
      "name": "python",
      "nbconvert_exporter": "python",
      "pygments_lexer": "ipython3",
      "version": "3.9.6"
    }
  },
  "nbformat": 4,
  "nbformat_minor": 0
}